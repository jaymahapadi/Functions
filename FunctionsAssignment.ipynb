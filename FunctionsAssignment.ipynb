{
  "nbformat": 4,
  "nbformat_minor": 0,
  "metadata": {
    "colab": {
      "provenance": []
    },
    "kernelspec": {
      "name": "python3",
      "display_name": "Python 3"
    },
    "language_info": {
      "name": "python"
    }
  },
  "cells": [
    {
      "cell_type": "markdown",
      "source": [
        "**Functions**"
      ],
      "metadata": {
        "id": "lDC0V5jYUjtz"
      }
    },
    {
      "cell_type": "markdown",
      "source": [
        "1. What is the difference between a function and a method in Python?\n",
        "  - A function is a block of reusable code defined using the def keyword, which can exist independently of any object.\n",
        "  - A method is a function that is associated with an object (usually a class instance) and operates on that object.\n",
        "  - Function is defined at module  level and method is defined in class.\n",
        "\n",
        "2. Explain the concept of function arguments and parameters in Python.\n",
        "  - Parameters are variables declared during function declaration.\n",
        "  - Arguments are values passed to declared function parameters.These values are assigned to the corresponding parameters.\n",
        "\n",
        "3. What are the different ways to define and call a function in Python?\n",
        "  - Functions are defined using def keyword, functions can be defined using\n",
        "      1. Standard Function Definition\n",
        "         - def greet(name):\n",
        "         - return f\"Hello, {name}!\"\n",
        "         - print(greet(\"Alice\"))\n",
        "\n",
        "      2. Lambda (Anonymous) Functions\n",
        "           - square = lambda x: x ** 2\n",
        "           - print(square(5))  \n",
        "\n",
        "      3. Function with Default Arguments\n",
        "            - def greet(name=\"Guest\"):\n",
        "            - return f\"Hello, {name}!\"\n",
        "            - print(greet())      \n",
        "            - print(greet(\"Guest\"))\n",
        "\n",
        "      4. Function with Variable Arguments\n",
        "           - def summarize(*args, **kwargs):\n",
        "           - return f\"Args: {args}, Kwargs: {kwargs}\"\n",
        "           - print(summarize(1, 2, 3, key=\"value\"))  \n",
        "\n",
        "4. What is the purpose of the `return` statement in a Python function?\n",
        "    - `return` statement returns the values after its execution\n",
        "\n",
        "5. What are iterators in Python and how do they differ from iterables?\n",
        "    - An iterable is any object in Python that can be looped over (iterated through) using a for loop.\n",
        "    - An iterator is an object that represents a stream of data. It is used to fetch items one at a time from an iterable.\n",
        "\n",
        "6. Explain the concept of generators in Python and how they are defined.\n",
        "    - Generators are a simple way to create iterators using functions and the yield keyword instead of returning values.\n",
        "    - A generator is defined like a normal function but uses the yield keyword instead of return.\n",
        "\n",
        "7. What are the advantages of using generators over regular functions?\n",
        "    - generators provide a powerful way to handle data in Python, especially when dealing with large or infinite datasets\n",
        "    \n",
        "\n",
        "8. What is a lambda function in Python and when is it typically used?\n",
        "    - A lambda function in Python is a small, anonymous function defined using the lambda keyword.\n",
        "    - Lambda functions are used in scenarios where a short function is needed\n",
        "\n",
        "9. Explain the purpose and usage of the `map()` function in Python.\n",
        "    - The map() function in Python is a built-in function that allows you to apply a specified function to each item in an iterable (such as a list, tuple, etc.) and return a map object (which is an iterator) of the results.\n",
        "    - it is used to transform data in iterable\n",
        "\n",
        "10. What is the difference between `map()`, `reduce()`, and `filter()` functions in Python?\n",
        "    - The map() function applies a given function to each item of an iterable (like a list) and returns a map object (an iterator)\n",
        "    - The filter() function constructs an iterator from elements of an iterable for which a function returns true.\n",
        "    - The reduce() function applies a function of two arguments cumulatively to the items of an iterable, from left to right, to reduce the iterable to a single value. It is part of the functools module\n",
        "\n",
        "11. Using pen & Paper write the internal mechanism for sum operation using  reduce function on this given list:[47,11,42,13];\n",
        "\n"
      ],
      "metadata": {
        "id": "LCGfaBwHUo4u"
      }
    },
    {
      "cell_type": "code",
      "source": [
        "#1. Write a Python function that takes a list of numbers as input and returns the sum of all even numbers in the list.\n",
        "def func_add(lst):\n",
        "  lambda x,lst:"
      ],
      "metadata": {
        "id": "HMiu35ALlURc"
      },
      "execution_count": null,
      "outputs": []
    },
    {
      "cell_type": "code",
      "source": [
        "# 2. Create a Python function that accepts a string and returns the reverse of that string.\n",
        "def func_rev(input_str):\n",
        "   return input_str[::-1]\n",
        "\n",
        "func_rev(\"string\")"
      ],
      "metadata": {
        "colab": {
          "base_uri": "https://localhost:8080/",
          "height": 1000
        },
        "id": "3yg82FpWmnbk",
        "outputId": "18983403-f44e-4526-c4b7-a59c1e32b021"
      },
      "execution_count": null,
      "outputs": [
        {
          "output_type": "execute_result",
          "data": {
            "text/plain": [
              "'gnirts'"
            ],
            "application/vnd.google.colaboratory.intrinsic+json": {
              "type": "string"
            }
          },
          "metadata": {},
          "execution_count": 2
        }
      ]
    },
    {
      "cell_type": "code",
      "source": [
        "# 3. Implement a Python function that takes a list of integers and returns a new list containing the squares of each number.\n",
        "#lst=[1,2,3,5,7]\n",
        "#list(map(lambda x: x**2,lst))\n",
        "\n",
        "def square_numbers(numbers):\n",
        "    \"\"\"\n",
        "    Takes a list of integers and returns a new list with their squares.\n",
        "\n",
        "    :param numbers: List of integers\n",
        "    :return: List of squared integers\n",
        "    \"\"\"\n",
        "    return [num ** 2 for num in numbers]\n",
        "\n",
        "\n",
        "input_list = [1, 2, 3, 4, 5]\n",
        "squared_list = square_numbers(input_list)\n",
        "print(squared_list)  # Output: [1, 4, 9, 16, 25]\n"
      ],
      "metadata": {
        "colab": {
          "base_uri": "https://localhost:8080/"
        },
        "id": "fFCp0aIWKrik",
        "outputId": "1d5077e7-e037-4e44-d535-30d1b861890f"
      },
      "execution_count": null,
      "outputs": [
        {
          "output_type": "stream",
          "name": "stdout",
          "text": [
            "[1, 4, 9, 16, 25]\n"
          ]
        }
      ]
    },
    {
      "cell_type": "code",
      "source": [
        "# 4. Write a Python function that checks if a given number is prime or not from 1 to 200.\n",
        "def is_prime(number):\n",
        "    \"\"\"\n",
        "    Check if a number is prime.\n",
        "    A prime number is greater than 1 and divisible only by 1 and itself.\n",
        "    \"\"\"\n",
        "    if number < 2:\n",
        "        return False\n",
        "    for i in range(2, int(number ** 0.5) + 1):\n",
        "        if number % i == 0:\n",
        "            return False\n",
        "    return True\n",
        "\n",
        "for num in range(1, 201):\n",
        "    if is_prime(num):\n",
        "        print(f\"{num} is a prime number.\")\n",
        "    else:\n",
        "        print(f\"{num} is not a prime number.\")"
      ],
      "metadata": {
        "colab": {
          "base_uri": "https://localhost:8080/"
        },
        "id": "qEPwgakRLzE-",
        "outputId": "5c5a9b9e-184b-4351-d92e-0e57c7be1c8f"
      },
      "execution_count": null,
      "outputs": [
        {
          "output_type": "stream",
          "name": "stdout",
          "text": [
            "1 is not a prime number.\n",
            "2 is a prime number.\n",
            "3 is a prime number.\n",
            "4 is not a prime number.\n",
            "5 is a prime number.\n",
            "6 is not a prime number.\n",
            "7 is a prime number.\n",
            "8 is not a prime number.\n",
            "9 is not a prime number.\n",
            "10 is not a prime number.\n",
            "11 is a prime number.\n",
            "12 is not a prime number.\n",
            "13 is a prime number.\n",
            "14 is not a prime number.\n",
            "15 is not a prime number.\n",
            "16 is not a prime number.\n",
            "17 is a prime number.\n",
            "18 is not a prime number.\n",
            "19 is a prime number.\n",
            "20 is not a prime number.\n",
            "21 is not a prime number.\n",
            "22 is not a prime number.\n",
            "23 is a prime number.\n",
            "24 is not a prime number.\n",
            "25 is not a prime number.\n",
            "26 is not a prime number.\n",
            "27 is not a prime number.\n",
            "28 is not a prime number.\n",
            "29 is a prime number.\n",
            "30 is not a prime number.\n",
            "31 is a prime number.\n",
            "32 is not a prime number.\n",
            "33 is not a prime number.\n",
            "34 is not a prime number.\n",
            "35 is not a prime number.\n",
            "36 is not a prime number.\n",
            "37 is a prime number.\n",
            "38 is not a prime number.\n",
            "39 is not a prime number.\n",
            "40 is not a prime number.\n",
            "41 is a prime number.\n",
            "42 is not a prime number.\n",
            "43 is a prime number.\n",
            "44 is not a prime number.\n",
            "45 is not a prime number.\n",
            "46 is not a prime number.\n",
            "47 is a prime number.\n",
            "48 is not a prime number.\n",
            "49 is not a prime number.\n",
            "50 is not a prime number.\n",
            "51 is not a prime number.\n",
            "52 is not a prime number.\n",
            "53 is a prime number.\n",
            "54 is not a prime number.\n",
            "55 is not a prime number.\n",
            "56 is not a prime number.\n",
            "57 is not a prime number.\n",
            "58 is not a prime number.\n",
            "59 is a prime number.\n",
            "60 is not a prime number.\n",
            "61 is a prime number.\n",
            "62 is not a prime number.\n",
            "63 is not a prime number.\n",
            "64 is not a prime number.\n",
            "65 is not a prime number.\n",
            "66 is not a prime number.\n",
            "67 is a prime number.\n",
            "68 is not a prime number.\n",
            "69 is not a prime number.\n",
            "70 is not a prime number.\n",
            "71 is a prime number.\n",
            "72 is not a prime number.\n",
            "73 is a prime number.\n",
            "74 is not a prime number.\n",
            "75 is not a prime number.\n",
            "76 is not a prime number.\n",
            "77 is not a prime number.\n",
            "78 is not a prime number.\n",
            "79 is a prime number.\n",
            "80 is not a prime number.\n",
            "81 is not a prime number.\n",
            "82 is not a prime number.\n",
            "83 is a prime number.\n",
            "84 is not a prime number.\n",
            "85 is not a prime number.\n",
            "86 is not a prime number.\n",
            "87 is not a prime number.\n",
            "88 is not a prime number.\n",
            "89 is a prime number.\n",
            "90 is not a prime number.\n",
            "91 is not a prime number.\n",
            "92 is not a prime number.\n",
            "93 is not a prime number.\n",
            "94 is not a prime number.\n",
            "95 is not a prime number.\n",
            "96 is not a prime number.\n",
            "97 is a prime number.\n",
            "98 is not a prime number.\n",
            "99 is not a prime number.\n",
            "100 is not a prime number.\n",
            "101 is a prime number.\n",
            "102 is not a prime number.\n",
            "103 is a prime number.\n",
            "104 is not a prime number.\n",
            "105 is not a prime number.\n",
            "106 is not a prime number.\n",
            "107 is a prime number.\n",
            "108 is not a prime number.\n",
            "109 is a prime number.\n",
            "110 is not a prime number.\n",
            "111 is not a prime number.\n",
            "112 is not a prime number.\n",
            "113 is a prime number.\n",
            "114 is not a prime number.\n",
            "115 is not a prime number.\n",
            "116 is not a prime number.\n",
            "117 is not a prime number.\n",
            "118 is not a prime number.\n",
            "119 is not a prime number.\n",
            "120 is not a prime number.\n",
            "121 is not a prime number.\n",
            "122 is not a prime number.\n",
            "123 is not a prime number.\n",
            "124 is not a prime number.\n",
            "125 is not a prime number.\n",
            "126 is not a prime number.\n",
            "127 is a prime number.\n",
            "128 is not a prime number.\n",
            "129 is not a prime number.\n",
            "130 is not a prime number.\n",
            "131 is a prime number.\n",
            "132 is not a prime number.\n",
            "133 is not a prime number.\n",
            "134 is not a prime number.\n",
            "135 is not a prime number.\n",
            "136 is not a prime number.\n",
            "137 is a prime number.\n",
            "138 is not a prime number.\n",
            "139 is a prime number.\n",
            "140 is not a prime number.\n",
            "141 is not a prime number.\n",
            "142 is not a prime number.\n",
            "143 is not a prime number.\n",
            "144 is not a prime number.\n",
            "145 is not a prime number.\n",
            "146 is not a prime number.\n",
            "147 is not a prime number.\n",
            "148 is not a prime number.\n",
            "149 is a prime number.\n",
            "150 is not a prime number.\n",
            "151 is a prime number.\n",
            "152 is not a prime number.\n",
            "153 is not a prime number.\n",
            "154 is not a prime number.\n",
            "155 is not a prime number.\n",
            "156 is not a prime number.\n",
            "157 is a prime number.\n",
            "158 is not a prime number.\n",
            "159 is not a prime number.\n",
            "160 is not a prime number.\n",
            "161 is not a prime number.\n",
            "162 is not a prime number.\n",
            "163 is a prime number.\n",
            "164 is not a prime number.\n",
            "165 is not a prime number.\n",
            "166 is not a prime number.\n",
            "167 is a prime number.\n",
            "168 is not a prime number.\n",
            "169 is not a prime number.\n",
            "170 is not a prime number.\n",
            "171 is not a prime number.\n",
            "172 is not a prime number.\n",
            "173 is a prime number.\n",
            "174 is not a prime number.\n",
            "175 is not a prime number.\n",
            "176 is not a prime number.\n",
            "177 is not a prime number.\n",
            "178 is not a prime number.\n",
            "179 is a prime number.\n",
            "180 is not a prime number.\n",
            "181 is a prime number.\n",
            "182 is not a prime number.\n",
            "183 is not a prime number.\n",
            "184 is not a prime number.\n",
            "185 is not a prime number.\n",
            "186 is not a prime number.\n",
            "187 is not a prime number.\n",
            "188 is not a prime number.\n",
            "189 is not a prime number.\n",
            "190 is not a prime number.\n",
            "191 is a prime number.\n",
            "192 is not a prime number.\n",
            "193 is a prime number.\n",
            "194 is not a prime number.\n",
            "195 is not a prime number.\n",
            "196 is not a prime number.\n",
            "197 is a prime number.\n",
            "198 is not a prime number.\n",
            "199 is a prime number.\n",
            "200 is not a prime number.\n"
          ]
        }
      ]
    },
    {
      "cell_type": "code",
      "source": [
        "#5. Create an iterator class in Python that generates the Fibonacci sequence up to a specified number of terms.\n",
        "\n",
        "class FibonacciIterator:\n",
        "    def __init__(self, n_terms):\n",
        "        self.n_terms = n_terms\n",
        "        self.current = 0\n",
        "        self.next = 1\n",
        "        self.count = 0\n",
        "\n",
        "    def __iter__(self):\n",
        "        return self\n",
        "\n",
        "    def __next__(self):\n",
        "        if self.count >= self.n_terms:\n",
        "            raise StopIteration\n",
        "        if self.count == 0:\n",
        "            self.count += 1\n",
        "            return self.current\n",
        "        elif self.count == 1:\n",
        "            self.count += 1\n",
        "            return self.next\n",
        "        else:\n",
        "            fib = self.current + self.next\n",
        "            self.current, self.next = self.next, fib\n",
        "            self.count += 1\n",
        "            return fib\n",
        "\n",
        "n = 10\n",
        "fib_iterator = FibonacciIterator(n)\n",
        "\n",
        "for num in fib_iterator:\n",
        "    print(num)\n"
      ],
      "metadata": {
        "colab": {
          "base_uri": "https://localhost:8080/"
        },
        "id": "6kv47qQnMXPn",
        "outputId": "0ac99a97-98af-42af-eb84-b05b4571a586"
      },
      "execution_count": null,
      "outputs": [
        {
          "output_type": "stream",
          "name": "stdout",
          "text": [
            "0\n",
            "1\n",
            "1\n",
            "2\n",
            "3\n",
            "5\n",
            "8\n",
            "13\n",
            "21\n",
            "34\n"
          ]
        }
      ]
    },
    {
      "cell_type": "code",
      "source": [
        "#6. Write a generator function in Python that yields the powers of 2 up to a given exponent.\n",
        "def powers_of_two(max_exponent):\n",
        "    \"\"\"Generator function to yield powers of 2 up to the given exponent.\"\"\"\n",
        "    for exponent in range(max_exponent + 1):\n",
        "        yield 2 ** exponent\n",
        "\n",
        "for power in powers_of_two(9):\n",
        "    print(power)"
      ],
      "metadata": {
        "colab": {
          "base_uri": "https://localhost:8080/"
        },
        "id": "0fhg38OqNhGe",
        "outputId": "85626545-f668-47a0-e41d-c5f1b7e5cada"
      },
      "execution_count": null,
      "outputs": [
        {
          "output_type": "stream",
          "name": "stdout",
          "text": [
            "1\n",
            "2\n",
            "4\n",
            "8\n",
            "16\n",
            "32\n",
            "64\n",
            "128\n",
            "256\n",
            "512\n"
          ]
        }
      ]
    },
    {
      "cell_type": "code",
      "source": [
        "# 7. Implement a generator function that reads a file line by line and yields each line as a string.\n",
        "def read_file(file_path):\n",
        "    \"\"\"\n",
        "    A generator function to read a file line by line.\n",
        "\n",
        "    Args:\n",
        "        file_path (str): The path to the file to be read.\n",
        "\n",
        "    Yields:\n",
        "        str: Each line from the file as a string.\n",
        "    \"\"\"\n",
        "    try:\n",
        "        with open(file_path, 'r', encoding='utf-8') as file:\n",
        "            for line in file:\n",
        "                yield line.rstrip('\\n')  # Remove the newline character\n",
        "    except FileNotFoundError:\n",
        "        print(f\"Error: The file at '{file_path}' was not found.\")\n",
        "    except IOError as e:\n",
        "        print(f\"Error: An I/O error occurred: {e}\")\n",
        "\n",
        "\n",
        "file_path = \"C:/Users/Jay Mahapadi/Downloads/example.txt\"\n",
        "\n",
        "for line in read_file(file_path):\n",
        "    print(line)\n"
      ],
      "metadata": {
        "colab": {
          "base_uri": "https://localhost:8080/"
        },
        "id": "lCNopUdqOOqW",
        "outputId": "5ce69dbd-fb1a-452e-f9d7-b039365ff36f"
      },
      "execution_count": null,
      "outputs": [
        {
          "output_type": "stream",
          "name": "stdout",
          "text": [
            "Error: The file at 'C:/Users/Jay Mahapadi/Downloads/example.txt' was not found.\n"
          ]
        }
      ]
    },
    {
      "cell_type": "code",
      "source": [
        "# 8. Use a lambda function in Python to sort a list of tuples based on the second element of each tuple.\n",
        "\n",
        "tuple_lst = [(1, 20), (4, 1), (2, 32), (5, 10)]\n",
        "\n",
        "sorted_data = sorted(tuple_lst, key=lambda x: x[1])\n",
        "\n",
        "print(sorted_data)"
      ],
      "metadata": {
        "colab": {
          "base_uri": "https://localhost:8080/"
        },
        "id": "oagMMnvwPj4j",
        "outputId": "76433e4f-d2e8-424c-b0bf-0bffd49dd3cc"
      },
      "execution_count": null,
      "outputs": [
        {
          "output_type": "stream",
          "name": "stdout",
          "text": [
            "[(4, 1), (5, 10), (1, 20), (2, 32)]\n"
          ]
        }
      ]
    },
    {
      "cell_type": "code",
      "source": [
        "# 9. Write a Python program that uses `map()` to convert a list of temperatures from Celsius to Fahrenheit.\n",
        "\n",
        "def celsius_to_fahrenheit(celsius):\n",
        "    return (celsius * 9/5) + 32\n",
        "\n",
        "celsius_temperatures = [0, 20, 37, 100]\n",
        "\n",
        "fahrenheit_temperatures = list(map(celsius_to_fahrenheit, celsius_temperatures))\n",
        "\n",
        "print(\"Temperatures in Celsius:\", celsius_temperatures)\n",
        "print(\"Temperatures in Fahrenheit:\", fahrenheit_temperatures)"
      ],
      "metadata": {
        "colab": {
          "base_uri": "https://localhost:8080/"
        },
        "id": "WbNjNS78P-SN",
        "outputId": "0e90fe2a-d794-4b02-fc10-1f8bfe2fcbb1"
      },
      "execution_count": null,
      "outputs": [
        {
          "output_type": "stream",
          "name": "stdout",
          "text": [
            "Temperatures in Celsius: [0, 20, 37, 100]\n",
            "Temperatures in Fahrenheit: [32.0, 68.0, 98.6, 212.0]\n"
          ]
        }
      ]
    },
    {
      "cell_type": "code",
      "source": [
        "# 10. Create a Python program that uses `filter()` to remove all the vowels from a given string.\n",
        "def remove_vowels(input_string):\n",
        "    def is_not_vowel(char):\n",
        "        vowels = \"aeiouAEIOU\"\n",
        "        return char not in vowels\n",
        "\n",
        "    result = filter(is_not_vowel, input_string)\n",
        "\n",
        "    return ''.join(result)\n",
        "\n",
        "\n",
        "input_string = \"Hello\"\n",
        "output_string = remove_vowels(input_string)\n",
        "print(\"Original String:\", input_string)\n",
        "print(\"String without vowels:\", output_string)\n"
      ],
      "metadata": {
        "colab": {
          "base_uri": "https://localhost:8080/"
        },
        "id": "V184CJycQ-IH",
        "outputId": "da512021-24b6-480d-d9da-8dd647a9d4f0"
      },
      "execution_count": null,
      "outputs": [
        {
          "output_type": "stream",
          "name": "stdout",
          "text": [
            "Original String: Hello\n",
            "String without vowels: Hll\n"
          ]
        }
      ]
    },
    {
      "cell_type": "code",
      "source": [
        "\"\"\"11.Imagine an accounting routine used in a book shop. It works on a list with sublists, which look like this:\n",
        " Write a Python program, which returns a list with 2-tuples. Each tuple consists of the order number and the\n",
        "product of the price per item and the quantity. The product should be increased by 10,- € if the value of the\n",
        "order is smaller than 100,00 €.\n",
        " Write a Python program using lambda and map.\"\"\"\n",
        "\n",
        "orders = [\n",
        "    [\"34587\", \"Learning Python, Mark Lutz\", 4, 40.95],\n",
        "    [\"98762\", \"Programming Python, Mark Lutz\", 5, 56.80],\n",
        "    [\"77226\", \"Head First Python, Paul Barry\", 3, 32.95],\n",
        "    [\"88112\", \"Python Cookbook, David Beazley\", 3, 24.99]\n",
        "]\n",
        "\n",
        "result = list(map(lambda x: (x[0], x[2] * x[3] + 10 if x[2] * x[3] < 100 else x[2] * x[3]), orders))\n",
        "\n",
        "print(result)"
      ],
      "metadata": {
        "colab": {
          "base_uri": "https://localhost:8080/"
        },
        "id": "7sPBYlLXRmHa",
        "outputId": "b3523835-7ce8-442d-b068-d8f2ddca3641"
      },
      "execution_count": null,
      "outputs": [
        {
          "output_type": "stream",
          "name": "stdout",
          "text": [
            "[('34587', 163.8), ('98762', 284.0), ('77226', 108.85000000000001), ('88112', 84.97)]\n"
          ]
        }
      ]
    }
  ]
}